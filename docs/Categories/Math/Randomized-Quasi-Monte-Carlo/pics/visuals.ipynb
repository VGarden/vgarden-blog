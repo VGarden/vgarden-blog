{
 "cells": [
  {
   "cell_type": "markdown",
   "id": "8957feb1",
   "metadata": {},
   "source": [
    "# Notebook setup"
   ]
  },
  {
   "cell_type": "markdown",
   "id": "d04f7ae8",
   "metadata": {},
   "source": [
    "Interractive visualisation in this notebook require Matplotlib backend"
   ]
  },
  {
   "cell_type": "code",
   "execution_count": null,
   "id": "e75bede0",
   "metadata": {},
   "outputs": [],
   "source": [
    "%matplotlib notebook"
   ]
  },
  {
   "cell_type": "code",
   "execution_count": null,
   "id": "20bbef58",
   "metadata": {},
   "outputs": [],
   "source": [
    "import matplotlib.pyplot as plt"
   ]
  },
  {
   "cell_type": "markdown",
   "id": "6528bf7e",
   "metadata": {},
   "source": [
    "Some convenient math imports"
   ]
  },
  {
   "cell_type": "code",
   "execution_count": null,
   "id": "250df3fb",
   "metadata": {},
   "outputs": [],
   "source": [
    "# basic math tooling\n",
    "from math import pow, sqrt\n",
    "\n",
    "# Generating uniform numbers\n",
    "from random import random"
   ]
  },
  {
   "cell_type": "markdown",
   "id": "877800d9",
   "metadata": {},
   "source": [
    "# Discrepancy estimates and visualisations"
   ]
  },
  {
   "cell_type": "markdown",
   "id": "2e1152cc",
   "metadata": {},
   "source": [
    "## Remarquable sequences"
   ]
  },
  {
   "cell_type": "code",
   "execution_count": null,
   "id": "4ad4365c",
   "metadata": {},
   "outputs": [],
   "source": [
    "# Number of points for visuals below, rooted to dimension\n",
    "N = 7"
   ]
  },
  {
   "cell_type": "code",
   "execution_count": null,
   "id": "108f0895",
   "metadata": {},
   "outputs": [],
   "source": [
    "def project(points, dim):\n",
    "    return [p[dim] for p in points]    \n",
    "\n",
    "\n",
    "def plot_2D(points, title):\n",
    "    fig, ax = plt.subplots()\n",
    "    ax.plot(\n",
    "        project(points, 0),\n",
    "        project(points, 1),\n",
    "        marker=\"o\", ls=\"\"\n",
    "    )\n",
    "    ax.set(xlabel=\"x\", ylabel=\"y\", title=title)\n",
    "    plt.show()\n",
    "\n",
    "\n",
    "def plot_3D(points, title):\n",
    "    fig = plt.figure()\n",
    "    ax = plt.axes(projection=\"3d\")\n",
    "    ax.plot(\n",
    "        project(points, 0),\n",
    "        project(points, 1),\n",
    "        project(points, 2),\n",
    "        marker=\"o\", ls=\"\"\n",
    "    )\n",
    "    ax.set(xlabel=\"x\", ylabel=\"y\", title=title)\n",
    "    plt.show()"
   ]
  },
  {
   "cell_type": "markdown",
   "id": "c70be7d8",
   "metadata": {},
   "source": [
    "### Regular grid"
   ]
  },
  {
   "cell_type": "code",
   "execution_count": null,
   "id": "04383f65",
   "metadata": {},
   "outputs": [],
   "source": [
    "points = [(i/N, j/N) for i in range(0, N) for j in range(0, N)]\n",
    "plot_2D(points, f\"Regular grid, dimension=2, N={N**2}\")"
   ]
  },
  {
   "cell_type": "code",
   "execution_count": null,
   "id": "bf94b6b9",
   "metadata": {},
   "outputs": [],
   "source": [
    "points = [(i/N, j/N, z/N) for i in range(0,N) for j in range(0,N) for z in range(0,N)]\n",
    "plot_3D(points, f\"Regular grid, dimension=3, N={N**3}\")"
   ]
  },
  {
   "cell_type": "markdown",
   "id": "96428cda",
   "metadata": {},
   "source": [
    "### Random uniform"
   ]
  },
  {
   "cell_type": "code",
   "execution_count": null,
   "id": "3a92e00b",
   "metadata": {},
   "outputs": [],
   "source": [
    "points = [(random(), random()) for n in range(0, N**2)]\n",
    "plot_2D(points, f\"Random uniform, dimension=2, N={N**2}\")"
   ]
  },
  {
   "cell_type": "code",
   "execution_count": null,
   "id": "331ab4b5",
   "metadata": {
    "scrolled": false
   },
   "outputs": [],
   "source": [
    "points = [(random(), random(), random()) for n in range(0, N**3)]\n",
    "plot_3D(points, f\"Random uniform, dimension=3, N={N**3}\")"
   ]
  },
  {
   "cell_type": "markdown",
   "id": "5a987550",
   "metadata": {},
   "source": [
    "### Low-discrepancy\n",
    "\n",
    "We use the following generator:"
   ]
  },
  {
   "cell_type": "code",
   "execution_count": null,
   "id": "0f023503",
   "metadata": {},
   "outputs": [],
   "source": [
    "def phi(dimension):\n",
    "    p = 1.0\n",
    "    old_p = 0\n",
    "    while abs(old_p - p) > 0.00000001:\n",
    "        old_p = p\n",
    "        p = pow(1+p, 1/(dimension+1))\n",
    "    return p\n",
    "\n",
    "PHI_2 = phi(2)\n",
    "PHI_3 = phi(3)\n",
    "\n",
    "PHI_2, PHI_3"
   ]
  },
  {
   "cell_type": "code",
   "execution_count": null,
   "id": "e76c8920",
   "metadata": {},
   "outputs": [],
   "source": [
    "points = [(\n",
    "    (n / PHI_2) % 1,\n",
    "    (n / PHI_2**2) % 1\n",
    ") for n in range(N**2)]\n",
    "plot_2D(points, f\"Low-discrepancy, dimension=2, N={N**2}\")"
   ]
  },
  {
   "cell_type": "code",
   "execution_count": null,
   "id": "69820bfb",
   "metadata": {},
   "outputs": [],
   "source": [
    "points = [(\n",
    "    (n / PHI_3) % 1,\n",
    "    (n / PHI_3**2) % 1,\n",
    "    (n / PHI_3**3) % 1\n",
    ") for n in range(N**3)]\n",
    "plot_3D(points, f\"Low-discrepancy, dimension=3, N={N**3}\")"
   ]
  },
  {
   "cell_type": "code",
   "execution_count": null,
   "id": "ac542e59",
   "metadata": {},
   "outputs": [],
   "source": []
  }
 ],
 "metadata": {
  "kernelspec": {
   "display_name": "Python 3 (ipykernel)",
   "language": "python",
   "name": "python3"
  },
  "language_info": {
   "codemirror_mode": {
    "name": "ipython",
    "version": 3
   },
   "file_extension": ".py",
   "mimetype": "text/x-python",
   "name": "python",
   "nbconvert_exporter": "python",
   "pygments_lexer": "ipython3",
   "version": "3.7.9"
  },
  "vscode": {
   "interpreter": {
    "hash": "aee8b7b246df8f9039afb4144a1f6fd8d2ca17a180786b69acc140d282b71a49"
   }
  }
 },
 "nbformat": 4,
 "nbformat_minor": 5
}
